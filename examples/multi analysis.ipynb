{
 "cells": [
  {
   "cell_type": "code",
   "execution_count": 1,
   "id": "drawn-significance",
   "metadata": {},
   "outputs": [],
   "source": [
    "import numpy as np\n",
    "import pandas as pd\n",
    "from tqdm.notebook import tqdm\n",
    "import os\n",
    "import pickle\n",
    "import matplotlib.pyplot as plt\n",
    "import seaborn as sns\n",
    "import json\n",
    "\n",
    "from sklearn.decomposition import PCA\n",
    "from sklearn.preprocessing import StandardScaler, MinMaxScaler\n",
    "from sklearn.linear_model import LinearRegression\n",
    "from sklearn.svm import SVR\n",
    "from sklearn.preprocessing import StandardScaler\n",
    "from scipy.stats import chi2"
   ]
  },
  {
   "cell_type": "code",
   "execution_count": 3,
   "id": "forward-minutes",
   "metadata": {},
   "outputs": [
    {
     "data": {
      "text/plain": [
       "201"
      ]
     },
     "execution_count": 3,
     "metadata": {},
     "output_type": "execute_result"
    }
   ],
   "source": [
    "path = 'data/minimal_pkls/'\n",
    "save_path = 'data/phi_stats/'\n",
    "os.makedirs(save_path, exist_ok=True)\n",
    "len(os.listdir(path))"
   ]
  },
  {
   "cell_type": "code",
   "execution_count": 71,
   "id": "determined-elder",
   "metadata": {},
   "outputs": [],
   "source": [
    "from social_phi import get_signal, experiment_hop_range\n",
    "\n",
    "def flatten(l : list):\n",
    "    return [item for sublist in l for item in sublist]\n",
    "\n",
    "def run_experiment(file, time_scale=24*3600, window=30):\n",
    "    if os.path.exists(save_path + file[:-4] + '.csv'):\n",
    "        return\n",
    "    \n",
    "    data = pickle.load(open(path + file, 'rb'))\n",
    "    sig = get_signal(data['activities'], time_scale=time_scale, binarize=True)\n",
    "    stats = experiment_hop_range(sig=sig, window=window, min_hop=1, max_hop=window, silent=True)\n",
    "    stats.to_csv(save_path + file[:-4] + '.csv', index=False)\n",
    "    \n",
    "    \n",
    "def load_data(file):\n",
    "    stats = pd.read_csv(save_path + file[:-4] + '.csv')\n",
    "    data = pickle.load(open(path + file, 'rb'))\n",
    "    act = flatten(data['activities'].values())\n",
    "    \n",
    "    res = {\n",
    "        'forks' : data['forks'],\n",
    "        'stars' : data['stars'],\n",
    "        'open_issues' : np.sum(data['issues_state']),\n",
    "        'closed_issues' : len(data['issues_state']) - np.sum(data['issues_state']),\n",
    "        'avg_issue_survival' : np.mean(data['issues_lifetime']),\n",
    "        'users' : len(data['activities']),\n",
    "        'total_commits' : len(act),\n",
    "        'age' : (max(act) - min(act)) // (24*3600),\n",
    "        'linear_avg_phi' : stats.linear_avg_phi[np.argmax(stats.linear_avg_phi)],\n",
    "        'zeroed_avg_phi' : stats.zeroed_avg_phi[np.argmax(stats.zeroed_avg_phi)],\n",
    "        'raw_avg_phi' : stats.raw_avg_phi[np.argmax(stats.raw_avg_phi)]\n",
    "        \n",
    "    }\n",
    "#     res['avg_commit_per_day'] = res['total_commits'] / res['timeline_length']\n",
    "#     res['avg_commit_per_user'] = res['total_commits'] / res['users']\n",
    "#     res['closed_open_ratio'] = res['closed_issues'] / res['open_issues'] if res['open_issues'] > 0 else 0.\n",
    "    return res"
   ]
  },
  {
   "cell_type": "code",
   "execution_count": 16,
   "id": "respected-nomination",
   "metadata": {
    "scrolled": true
   },
   "outputs": [],
   "source": [
    "# from joblib import Parallel, delayed\n",
    "\n",
    "# _ = Parallel(n_jobs=20)(delayed(run_experiment)(file) for file in tqdm(os.listdir(path)))"
   ]
  },
  {
   "cell_type": "code",
   "execution_count": 72,
   "id": "latin-viking",
   "metadata": {},
   "outputs": [
    {
     "name": "stdout",
     "output_type": "stream",
     "text": [
      "golang____go.pkl [Errno 2] No such file or directory: 'data/phi_stats/golang____go.csv'\n",
      "(200, 11)\n"
     ]
    },
    {
     "data": {
      "text/html": [
       "<div>\n",
       "<style scoped>\n",
       "    .dataframe tbody tr th:only-of-type {\n",
       "        vertical-align: middle;\n",
       "    }\n",
       "\n",
       "    .dataframe tbody tr th {\n",
       "        vertical-align: top;\n",
       "    }\n",
       "\n",
       "    .dataframe thead th {\n",
       "        text-align: right;\n",
       "    }\n",
       "</style>\n",
       "<table border=\"1\" class=\"dataframe\">\n",
       "  <thead>\n",
       "    <tr style=\"text-align: right;\">\n",
       "      <th></th>\n",
       "      <th>forks</th>\n",
       "      <th>stars</th>\n",
       "      <th>users</th>\n",
       "      <th>total_commits</th>\n",
       "      <th>age</th>\n",
       "      <th>open_issues</th>\n",
       "      <th>closed_issues</th>\n",
       "      <th>avg_issue_survival</th>\n",
       "      <th>linear_avg_phi</th>\n",
       "      <th>zeroed_avg_phi</th>\n",
       "      <th>raw_avg_phi</th>\n",
       "    </tr>\n",
       "  </thead>\n",
       "  <tbody>\n",
       "    <tr>\n",
       "      <th>count</th>\n",
       "      <td>200.000000</td>\n",
       "      <td>200.000000</td>\n",
       "      <td>200.000000</td>\n",
       "      <td>200.000000</td>\n",
       "      <td>200.000000</td>\n",
       "      <td>200.000000</td>\n",
       "      <td>200.000000</td>\n",
       "      <td>200.000000</td>\n",
       "      <td>200.000000</td>\n",
       "      <td>200.000000</td>\n",
       "      <td>200.000000</td>\n",
       "    </tr>\n",
       "    <tr>\n",
       "      <th>mean</th>\n",
       "      <td>7310.725000</td>\n",
       "      <td>34761.095000</td>\n",
       "      <td>626.325000</td>\n",
       "      <td>10420.275000</td>\n",
       "      <td>2897.120000</td>\n",
       "      <td>751.060000</td>\n",
       "      <td>10413.280000</td>\n",
       "      <td>114.900067</td>\n",
       "      <td>1.090646</td>\n",
       "      <td>0.083392</td>\n",
       "      <td>1.283914</td>\n",
       "    </tr>\n",
       "    <tr>\n",
       "      <th>std</th>\n",
       "      <td>8987.707573</td>\n",
       "      <td>32779.152061</td>\n",
       "      <td>837.297933</td>\n",
       "      <td>5509.547699</td>\n",
       "      <td>1182.043621</td>\n",
       "      <td>975.378657</td>\n",
       "      <td>9018.750499</td>\n",
       "      <td>112.082470</td>\n",
       "      <td>0.151689</td>\n",
       "      <td>0.029422</td>\n",
       "      <td>0.269464</td>\n",
       "    </tr>\n",
       "    <tr>\n",
       "      <th>min</th>\n",
       "      <td>719.000000</td>\n",
       "      <td>15237.000000</td>\n",
       "      <td>11.000000</td>\n",
       "      <td>1520.000000</td>\n",
       "      <td>414.000000</td>\n",
       "      <td>0.000000</td>\n",
       "      <td>504.000000</td>\n",
       "      <td>3.163547</td>\n",
       "      <td>0.744462</td>\n",
       "      <td>0.002807</td>\n",
       "      <td>0.806184</td>\n",
       "    </tr>\n",
       "    <tr>\n",
       "      <th>25%</th>\n",
       "      <td>2934.000000</td>\n",
       "      <td>18782.000000</td>\n",
       "      <td>247.000000</td>\n",
       "      <td>6215.250000</td>\n",
       "      <td>2127.000000</td>\n",
       "      <td>158.750000</td>\n",
       "      <td>4820.500000</td>\n",
       "      <td>39.846452</td>\n",
       "      <td>0.998215</td>\n",
       "      <td>0.065582</td>\n",
       "      <td>1.103196</td>\n",
       "    </tr>\n",
       "    <tr>\n",
       "      <th>50%</th>\n",
       "      <td>4426.500000</td>\n",
       "      <td>24287.500000</td>\n",
       "      <td>455.500000</td>\n",
       "      <td>8448.000000</td>\n",
       "      <td>2737.000000</td>\n",
       "      <td>502.500000</td>\n",
       "      <td>8334.500000</td>\n",
       "      <td>81.723641</td>\n",
       "      <td>1.067932</td>\n",
       "      <td>0.078725</td>\n",
       "      <td>1.227215</td>\n",
       "    </tr>\n",
       "    <tr>\n",
       "      <th>75%</th>\n",
       "      <td>7774.500000</td>\n",
       "      <td>37941.500000</td>\n",
       "      <td>714.500000</td>\n",
       "      <td>13560.750000</td>\n",
       "      <td>3599.250000</td>\n",
       "      <td>913.750000</td>\n",
       "      <td>12588.500000</td>\n",
       "      <td>146.399293</td>\n",
       "      <td>1.174121</td>\n",
       "      <td>0.096563</td>\n",
       "      <td>1.406372</td>\n",
       "    </tr>\n",
       "    <tr>\n",
       "      <th>max</th>\n",
       "      <td>73734.000000</td>\n",
       "      <td>325401.000000</td>\n",
       "      <td>9618.000000</td>\n",
       "      <td>27770.000000</td>\n",
       "      <td>7847.000000</td>\n",
       "      <td>9239.000000</td>\n",
       "      <td>75807.000000</td>\n",
       "      <td>643.970195</td>\n",
       "      <td>1.605751</td>\n",
       "      <td>0.267149</td>\n",
       "      <td>2.678072</td>\n",
       "    </tr>\n",
       "  </tbody>\n",
       "</table>\n",
       "</div>"
      ],
      "text/plain": [
       "              forks          stars        users  total_commits          age  \\\n",
       "count    200.000000     200.000000   200.000000     200.000000   200.000000   \n",
       "mean    7310.725000   34761.095000   626.325000   10420.275000  2897.120000   \n",
       "std     8987.707573   32779.152061   837.297933    5509.547699  1182.043621   \n",
       "min      719.000000   15237.000000    11.000000    1520.000000   414.000000   \n",
       "25%     2934.000000   18782.000000   247.000000    6215.250000  2127.000000   \n",
       "50%     4426.500000   24287.500000   455.500000    8448.000000  2737.000000   \n",
       "75%     7774.500000   37941.500000   714.500000   13560.750000  3599.250000   \n",
       "max    73734.000000  325401.000000  9618.000000   27770.000000  7847.000000   \n",
       "\n",
       "       open_issues  closed_issues  avg_issue_survival  linear_avg_phi  \\\n",
       "count   200.000000     200.000000          200.000000      200.000000   \n",
       "mean    751.060000   10413.280000          114.900067        1.090646   \n",
       "std     975.378657    9018.750499          112.082470        0.151689   \n",
       "min       0.000000     504.000000            3.163547        0.744462   \n",
       "25%     158.750000    4820.500000           39.846452        0.998215   \n",
       "50%     502.500000    8334.500000           81.723641        1.067932   \n",
       "75%     913.750000   12588.500000          146.399293        1.174121   \n",
       "max    9239.000000   75807.000000          643.970195        1.605751   \n",
       "\n",
       "       zeroed_avg_phi  raw_avg_phi  \n",
       "count      200.000000   200.000000  \n",
       "mean         0.083392     1.283914  \n",
       "std          0.029422     0.269464  \n",
       "min          0.002807     0.806184  \n",
       "25%          0.065582     1.103196  \n",
       "50%          0.078725     1.227215  \n",
       "75%          0.096563     1.406372  \n",
       "max          0.267149     2.678072  "
      ]
     },
     "execution_count": 72,
     "metadata": {},
     "output_type": "execute_result"
    }
   ],
   "source": [
    "df = pd.DataFrame(\n",
    "    columns=[\n",
    "        'forks', 'stars', 'users', \n",
    "        'total_commits', 'age',#'avg_commit_per_day', 'avg_commit_per_user',\n",
    "        'open_issues', 'closed_issues', 'avg_issue_survival',#'closed_open_ratio',\n",
    "        'linear_avg_phi', 'zeroed_avg_phi', 'raw_avg_phi'\n",
    "    ]\n",
    ")\n",
    "\n",
    "for file in os.listdir(path):\n",
    "    try:\n",
    "        df = df.append(load_data(file), ignore_index=True)\n",
    "    except Exception as e:\n",
    "        print(file, e)\n",
    "df = df.astype(float)\n",
    "print(df.shape)\n",
    "df.describe()"
   ]
  },
  {
   "cell_type": "markdown",
   "id": "final-hunger",
   "metadata": {},
   "source": [
    "## issue survival analysis"
   ]
  },
  {
   "cell_type": "code",
   "execution_count": 221,
   "id": "collect-isolation",
   "metadata": {},
   "outputs": [],
   "source": [
    "# all_issues_lifetime = []\n",
    "# for file in os.listdir(path):\n",
    "#     if '____' in file:\n",
    "#         data = pickle.load(open(path + file, 'rb'))\n",
    "#         all_issues_lifetime += [data['issues_lifetime']]\n",
    "\n",
    "# m = min(flatten(all_issues_lifetime))\n",
    "# M = max(flatten(all_issues_lifetime))\n",
    "# n_bins = 1000\n",
    "# issue_bins = np.linspace(m, M + 1, n_bins + 1)\n",
    "# issues_survival = np.array([np.histogram(lifetime, issue_bins)[0] for lifetime in all_issues_lifetime])\n",
    "# mean_issues_survival = np.array([np.mean(lifetime) for lifetime in all_issues_lifetime])\n",
    "\n",
    "# scale = MinMaxScaler()\n",
    "# # #StandardScaler()\n",
    "\n",
    "# pca = PCA(n_components=1).fit(issues_survival)\n",
    "# # cum_var = np.cumsum(pca.explained_variance_ratio_)\n",
    "# issue_life_comps = pca.transform(issues_survival)\n",
    "# # print(cum_var[-1])\n",
    "\n",
    "# # plt.figure(figsize=(20,5))\n",
    "# # plt.subplot(1,2,1)\n",
    "# # plt.title('pc1')\n",
    "# scaled_comps = scale.fit_transform(issue_life_comps)\n",
    "# # plt.hist(scaled_comps, 100)\n",
    "\n",
    "# # plt.subplot(1,2,2)\n",
    "# # plt.title('mean')\n",
    "# scaled_means = scale.fit_transform(mean_issues_survival.reshape(-1,1))\n",
    "# # plt.hist(scaled_means, 100)\n",
    "# # print('means var:',np.var(scaled_means), ' comps var:', np.var(scaled_comps))\n",
    "# # # plt.scatter(issue_life_comps[:,0], issue_life_comps[:,1])\n",
    "# # plt.show()"
   ]
  },
  {
   "cell_type": "code",
   "execution_count": 63,
   "id": "juvenile-weather",
   "metadata": {
    "scrolled": false
   },
   "outputs": [],
   "source": [
    "# bins = 20\n",
    "# n = len(df.columns)\n",
    "\n",
    "# plt.figure(figsize=(15,n*2))\n",
    "# for i,col in enumerate(df.columns):\n",
    "#     plt.subplot(int(np.round(n/2)), 2, i+1)\n",
    "#     plt.title(col)\n",
    "#     plt.hist(df[col], bins)\n",
    "\n",
    "# plt.show()"
   ]
  },
  {
   "cell_type": "code",
   "execution_count": 73,
   "id": "positive-aggregate",
   "metadata": {
    "scrolled": false
   },
   "outputs": [
    {
     "data": {
      "image/png": "[encoded data removed]",
      "text/plain": [
       "<Figure size 2160x360 with 1 Axes>"
      ]
     },
     "metadata": {
      "needs_background": "light"
     },
     "output_type": "display_data"
    }
   ],
   "source": [
    "from scipy import stats as sci_stats\n",
    "from sklearn.metrics import mutual_info_score, normalized_mutual_info_score, adjusted_mutual_info_score\n",
    "\n",
    "\n",
    "corrs = df.corr(method='pearson') # spearman , kendall\n",
    "corr_tvals = corrs * np.sqrt(df.shape[0] - 2) / np.sqrt(1 - corrs**2)\n",
    "corr_pvals = sci_stats.t.sf(np.abs(corr_tvals), df.shape[0] - 2)*2\n",
    "corr_pvals = pd.DataFrame(corr_pvals, columns=df.columns, index=df.columns)\n",
    "\n",
    "plt.figure(figsize=(30,5))\n",
    "# plt.subplot(3,1,1)\n",
    "# sns.barplot(y=corrs['raw_avg_phi'], x=df.columns)\n",
    "# plt.plot(corr_pvals['raw_avg_phi'], label='p value')\n",
    "# plt.ylabel('correlation with raw_avg_phi')\n",
    "# plt.subplot(3,1,2)\n",
    "# sns.barplot(y=corrs['zeroed_avg_phi'], x=df.columns)\n",
    "# plt.plot(corr_pvals['zeroed_avg_phi'], label='p value')\n",
    "# plt.ylabel('correlation with zeroed_avg_phi')\n",
    "# plt.subplot(3,1,3)\n",
    "cols2drop = list(filter(lambda x: x.endswith('phi'), df.columns))\n",
    "sns.barplot(y=corrs.drop(cols2drop, axis=1).loc['linear_avg_phi'], x=df.drop(cols2drop, axis=1).columns)\n",
    "plt.plot(corr_pvals.drop(cols2drop, axis=1).loc['linear_avg_phi'], label='p value')\n",
    "plt.ylabel('correlation with linear_avg_phi')\n",
    "plt.legend()\n",
    "plt.show()"
   ]
  },
  {
   "cell_type": "code",
   "execution_count": 74,
   "id": "9361a4ec",
   "metadata": {},
   "outputs": [
    {
     "data": {
      "image/png": "[encoded data removed]",
      "text/plain": [
       "<Figure size 2160x1296 with 1 Axes>"
      ]
     },
     "metadata": {
      "needs_background": "light"
     },
     "output_type": "display_data"
    }
   ],
   "source": [
    "def get_mi(trg_col):\n",
    "    mis = np.zeros(shape=df.shape[1]-3)\n",
    "    cols2drop = list(filter(lambda x: x.endswith('phi'), df.columns))\n",
    "    for i,col in enumerate(df.drop(cols2drop, axis=1).columns):\n",
    "        mis[i] = adjusted_mutual_info_score(df[trg_col], df[col])\n",
    "\n",
    "    sns.barplot(y=mis, x=df.drop(cols2drop, axis=1).columns)\n",
    "    plt.ylabel(f'MI with {trg_col}')\n",
    "\n",
    "plt.figure(figsize=(30,18))\n",
    "for i,col in enumerate(['linear_avg_phi']):#'raw_avg_phi', 'zeroed_avg_phi', \n",
    "    plt.subplot(3,1,i+1)\n",
    "    get_mi(col)\n",
    "plt.show()"
   ]
  },
  {
   "cell_type": "code",
   "execution_count": 271,
   "id": "b9478e69",
   "metadata": {},
   "outputs": [],
   "source": [
    "# def quantize_col(data, col, n_bins=5):\n",
    "#     bins = np.linspace(np.min(data[col]), np.max(data[col])+1, n_bins+1)\n",
    "#     temp_df = data.copy()[[col, 'avg_phi']]\n",
    "#     temp_df[col+'_quantized'] = np.digitize(temp_df[col], bins=bins)   \n",
    "#     sns.boxplot(data=temp_df, x=col+'_quantized', y='avg_phi')\n",
    "\n",
    "# n = len(df.columns) - 1\n",
    "# plt.figure(figsize=(20,n*2))\n",
    "# for i,col in enumerate(df.drop(['avg_phi'], axis=1).columns):\n",
    "#     plt.subplot(n // 2 +1, 2, i+1)\n",
    "#     quantize_col(df, col, n_bins=5)\n",
    "# plt.show()"
   ]
  },
  {
   "cell_type": "code",
   "execution_count": 44,
   "id": "3a8492c4",
   "metadata": {},
   "outputs": [],
   "source": [
    "def get_scatter_regression(trg_col):\n",
    "    n = len(df.columns) - 1\n",
    "    standardize = lambda v : (v - v.mean()) / v.std()\n",
    "#     standardize = lambda v : v\n",
    "    x = standardize(df[trg_col].values)\n",
    "    cols2drop = list(filter(lambda x: x.endswith('phi'), df.columns))\n",
    "\n",
    "    plt.figure(figsize=(16,n*2))\n",
    "    for i,col in enumerate(df.drop(cols2drop, axis=1).columns):\n",
    "        y = standardize(df[col].values)\n",
    "        lr = LinearRegression().fit(x.reshape(-1,1),y)\n",
    "\n",
    "        plt.subplot(n // 2 + 1, 2, i+1)\n",
    "        plt.xlabel(trg_col)\n",
    "        plt.ylabel(col)\n",
    "        plt.scatter(x=x, y=y)\n",
    "        plt.plot(x, lr.predict(x.reshape(-1,1)), c='r')\n",
    "    plt.show()"
   ]
  },
  {
   "cell_type": "code",
   "execution_count": 45,
   "id": "muslim-gravity",
   "metadata": {},
   "outputs": [],
   "source": [
    "# get_scatter_regression('raw_avg_phi')"
   ]
  },
  {
   "cell_type": "code",
   "execution_count": 46,
   "id": "contemporary-elephant",
   "metadata": {},
   "outputs": [],
   "source": [
    "# get_scatter_regression('zeroed_avg_phi')"
   ]
  },
  {
   "cell_type": "code",
   "execution_count": 51,
   "id": "hidden-coach",
   "metadata": {},
   "outputs": [],
   "source": [
    "# get_scatter_regression('linear_avg_phi')"
   ]
  },
  {
   "cell_type": "code",
   "execution_count": 75,
   "id": "4bd58774",
   "metadata": {},
   "outputs": [
    {
     "name": "stdout",
     "output_type": "stream",
     "text": [
      "forks pvalue=0.04554652684940501 lr=4.00\n",
      "stars pvalue=0.26390071897230416 lr=1.25\n",
      "users pvalue=1.0 lr=-0.24\n",
      "total_commits pvalue=0.12428639043153628 lr=2.36\n",
      "age pvalue=0.0006598086960920692 lr=11.60\n",
      "open_issues pvalue=1.0 lr=-0.17\n",
      "closed_issues pvalue=0.5834040171881318 lr=0.30\n",
      "avg_issue_survival pvalue=0.0549170981295253 lr=3.68\n"
     ]
    },
    {
     "data": {
      "image/png": "[encoded data removed]",
      "text/plain": [
       "<Figure size 1800x720 with 1 Axes>"
      ]
     },
     "metadata": {
      "needs_background": "light"
     },
     "output_type": "display_data"
    }
   ],
   "source": [
    "from scipy.stats.distributions import chi2\n",
    "\n",
    "def experiment_regression(data, keys : list, plot=True):\n",
    "    scale = StandardScaler()\n",
    "    cols2drop = list(filter(lambda x: x.endswith('phi'), df.columns))\n",
    "    X_res = data.drop(cols2drop + keys, axis=1).values\n",
    "    X = data.drop(cols2drop, axis=1).values\n",
    "    X = scale.fit_transform(X)\n",
    "    X_res = scale.fit_transform(X_res)\n",
    "    standardize = lambda x: (x-x.mean())/x.std()\n",
    "    y = standardize(data['linear_avg_phi'].values)\n",
    "\n",
    "    \n",
    "    lr = SVR()\n",
    "    lr.fit(X, y)\n",
    "    pred = lr.predict(X)\n",
    "    \n",
    "    lr_res = SVR()\n",
    "    lr_res.fit(X_res, y)\n",
    "    pred_res = lr_res.predict(X_res)\n",
    "\n",
    "    err = np.sum(np.square(y - pred))\n",
    "    err_res = np.sum(np.square(y - pred_res))\n",
    "    LR = err_res - err\n",
    "    pvalue = chi2.sf(LR, 1)\n",
    "\n",
    "    if plot:\n",
    "        plt.figure(figsize=(20,10))\n",
    "        plt.subplot(2,1,1)\n",
    "        plt.title('full model')\n",
    "        plt.plot(y)\n",
    "        plt.plot(pred)\n",
    "\n",
    "        plt.subplot(2,1,2)\n",
    "        plt.title('restricted model')\n",
    "        plt.plot(y)\n",
    "        plt.plot(pred_res)\n",
    "        plt.show()\n",
    "    return LR, pvalue\n",
    "\n",
    "pvalues = []\n",
    "cols2drop = list(filter(lambda x: x.endswith('phi'), df.columns))\n",
    "for col in df.drop(cols2drop, axis=1).columns:\n",
    "    lr, p = experiment_regression(df, keys=[col], plot=False)\n",
    "    pvalues += [p]\n",
    "    print(col, f\"pvalue={p}\", 'lr={:.2f}'.format(lr))\n",
    "\n",
    "plt.figure(figsize=(25,10))\n",
    "plt.title('pvalue for LRT')\n",
    "sns.barplot(x=df.drop(cols2drop, axis=1).columns, y=pvalues)\n",
    "plt.hlines(y=0.05, xmin=-1, xmax=11, colors='r')\n",
    "plt.show()"
   ]
  },
  {
   "cell_type": "code",
   "execution_count": null,
   "id": "practical-rebate",
   "metadata": {},
   "outputs": [],
   "source": []
  },
  {
   "cell_type": "code",
   "execution_count": null,
   "id": "meaningful-trouble",
   "metadata": {},
   "outputs": [],
   "source": []
  }
 ],
 "metadata": {
  "kernelspec": {
   "display_name": "Python 3",
   "language": "python",
   "name": "python3"
  },
  "language_info": {
   "codemirror_mode": {
    "name": "ipython",
    "version": 3
   },
   "file_extension": ".py",
   "mimetype": "text/x-python",
   "name": "python",
   "nbconvert_exporter": "python",
   "pygments_lexer": "ipython3",
   "version": "3.7.4"
  }
 },
 "nbformat": 4,
 "nbformat_minor": 5
}
