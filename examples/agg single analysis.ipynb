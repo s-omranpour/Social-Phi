{
 "cells": [
  {
   "cell_type": "code",
   "execution_count": 1,
   "id": "revised-suspension",
   "metadata": {},
   "outputs": [],
   "source": [
    "from importlib import reload\n",
    "import pandas  as pd\n",
    "import numpy as np\n",
    "import matplotlib.pyplot as plt\n",
    "import seaborn as sns\n",
    "import pickle\n",
    "import os\n",
    "from sklearn.metrics import mutual_info_score, normalized_mutual_info_score, adjusted_mutual_info_score\n",
    "from sklearn.linear_model import LinearRegression\n",
    "from sklearn.preprocessing import StandardScaler\n",
    "from sklearn.svm import SVR\n",
    "from tqdm.notebook import tqdm"
   ]
  },
  {
   "cell_type": "code",
   "execution_count": 2,
   "id": "relative-moderator",
   "metadata": {},
   "outputs": [],
   "source": [
    "path = 'data/full_pkls/'"
   ]
  },
  {
   "cell_type": "code",
   "execution_count": 17,
   "id": "still-color",
   "metadata": {},
   "outputs": [],
   "source": [
    "from scipy import stats as sci_stats\n",
    "from sklearn.metrics import mutual_info_score, normalized_mutual_info_score, adjusted_mutual_info_score\n",
    "\n",
    "from social_phi import get_signal, sliding_window, get_single_signal, experiment_hop_range, phi_for_act_sig\n",
    "\n",
    "\n",
    "def issues_state_processing(states, timings, lifetimes):\n",
    "    start_days = np.array([t//(24*3600) for t in timings])\n",
    "    end_days = (start_days + lifetimes)*(1-states)\n",
    "    m = min(end_days[end_days > 0].tolist() + start_days.tolist())\n",
    "    M = max(end_days[end_days > 0].tolist() + start_days.tolist())\n",
    "    sig = np.zeros(M-m+1)\n",
    "    for d in end_days:\n",
    "        if d > 0:\n",
    "            sig[d-m] += 1\n",
    "    return sig, M, m\n",
    "\n",
    "\n",
    "def prepare_signals(data):\n",
    "    ## closed issues\n",
    "    closed_issues, max_issue_time, min_issue_time = issues_state_processing(\n",
    "        states=data['issues_state'], timings=data['opened_issues'], lifetimes=data['issues_lifetime']\n",
    "    )\n",
    "    ## stars, forks, opened_issues, closed_issues\n",
    "    signals = {}\n",
    "    for k in ['forks', 'stars', 'opened_issues']:\n",
    "        metric, a, b = get_single_signal(data[k], time_scale=24*3600, binarize=False)\n",
    "        signals[k] = {\n",
    "            'sig': metric,\n",
    "            'm' : b,\n",
    "            'M' : a\n",
    "        }\n",
    "    signals['closed_issues'] = {\n",
    "        'sig' : closed_issues,\n",
    "        'm' : min_issue_time,\n",
    "        'M' : max_issue_time    \n",
    "    }\n",
    "\n",
    "    min_act_time = min([min(v) for v in data['activities'].values()]) // (24*3600)\n",
    "    max_act_time = max([max(v) for v in data['activities'].values()]) // (24*3600)\n",
    "    m = min([v['m'] for v in signals.values()] + [min_act_time])\n",
    "    M = max([v['M'] for v in signals.values()] + [max_act_time])\n",
    "\n",
    "    for k in signals:\n",
    "        signals[k] = np.pad(signals[k]['sig'], pad_width=(signals[k]['m'] - m, M - signals[k]['M']))\n",
    "    \n",
    "    sig = get_signal(data['activities'], time_scale=24*3600, binarize=True)\n",
    "    signals['activities'] = np.pad(sig, pad_width=(min_act_time - m, M - max_act_time))\n",
    "    return signals\n",
    "\n",
    "\n",
    "def prepare_data(file):\n",
    "    data = pickle.load(open(path + file, 'rb'))\n",
    "    signals = prepare_signals(data)\n",
    "    \n",
    "    ## loading phi stats\n",
    "    csv_path = 'data/phi_stats/' + file[:-4] + '.csv'\n",
    "    if os.path.exists(csv_path):\n",
    "        stats = pd.read_csv(csv_path)\n",
    "    else:\n",
    "        stats = experiment_hop_range(sig=signals['activities'], window=30, min_hop=1, max_hop=30, silent=False)\n",
    "        stats.to_csv(csv_path, index=False)\n",
    "    \n",
    "    ## calculating phi for specific tau\n",
    "    tau = int(stats.hop.values[np.argmax(stats.linear_avg_phi.values)])\n",
    "    phis, n_users = phi_for_act_sig(signals['activities'], window=30, hop=tau, nan_policy='linear', base=2)\n",
    "    \n",
    "    ## other metrics\n",
    "    metrics = {}\n",
    "    for k in signals:\n",
    "        if k != 'activities':\n",
    "            metrics[k] = sliding_window(signals[k].reshape(1,-1), agg_func=np.sum, window=30, hop=tau)[0]\n",
    "    metrics['num_activities'] = sliding_window(signals['activities'].sum(axis=0).reshape(1,-1), agg_func=np.sum, window=30, hop=tau)[0]\n",
    "    metrics['num_active_users'] = n_users\n",
    "    \n",
    "    ## put everythin in a data frame\n",
    "    df = pd.DataFrame(columns=[\n",
    "            'phi', 'num_activities', 'num_active_users', 'forks', 'opened_issues', 'stars', 'closed_issues'\n",
    "    ])\n",
    "    df['phi'] = phis\n",
    "    for k in metrics:\n",
    "        df[k] = metrics[k]\n",
    "    df.to_csv('data/full_csvs/' + file[:-4] + '.csv', index=False)\n",
    "    return df\n",
    "\n",
    "def analyze(df):\n",
    "    ## correlations\n",
    "    corrs = df.corr(method='pearson') # spearman , kendall\n",
    "    corr_tvals = corrs * np.sqrt(df.shape[0] - 2) / np.sqrt(1 - corrs**2)\n",
    "    corr_pvals = sci_stats.t.sf(np.abs(corr_tvals), df.shape[0] - 2)*2\n",
    "    corr_pvals = pd.DataFrame(corr_pvals, columns=df.columns, index=df.columns)\n",
    "\n",
    "    mis = np.zeros(shape=[df.shape[1], df.shape[1]])\n",
    "    for i, col1 in enumerate(df.columns):\n",
    "        for j,col2 in enumerate(df.columns):\n",
    "            mis[i,j] = normalized_mutual_info_score(df[col1], df[col2])\n",
    "    mis = pd.DataFrame(mis, columns=df.columns, index=df.columns)\n",
    "    \n",
    "    return corrs, corr_pvals, mis"
   ]
  },
  {
   "cell_type": "code",
   "execution_count": 28,
   "id": "worst-cocktail",
   "metadata": {},
   "outputs": [],
   "source": [
    "# check_existance = lambda file : os.path.exists(f'data/full_csvs/{file[:-4]}.csv')\n",
    "\n",
    "# for file in tqdm(os.listdir(path)):\n",
    "#     if check_existance(file):\n",
    "#         continue\n",
    "#     print(file)\n",
    "#     prepare_data(file)"
   ]
  },
  {
   "cell_type": "code",
   "execution_count": 62,
   "id": "respected-tumor",
   "metadata": {},
   "outputs": [
    {
     "data": {
      "text/plain": [
       "((14, 6), (14, 6))"
      ]
     },
     "execution_count": 62,
     "metadata": {},
     "output_type": "execute_result"
    }
   ],
   "source": [
    "csv_path = 'data/full_csvs/'\n",
    "corrs = []\n",
    "mis = []\n",
    "columns = None\n",
    "for csv in os.listdir(csv_path):\n",
    "    corr, pvalue, mi = analyze(pd.read_csv(csv_path + csv))\n",
    "    corrs += [corr.drop(['phi'], axis=1).loc['phi'].values * (pvalue.drop(['phi'], axis=1).loc['phi'] < 0.05).astype(float)]\n",
    "    mis += [mi.drop(['phi'], axis=1).loc['phi'].values]\n",
    "corrs = np.array(corrs)\n",
    "mis = np.array(mis)\n",
    "corrs.shape, mis.shape"
   ]
  },
  {
   "cell_type": "code",
   "execution_count": 63,
   "id": "empirical-chinese",
   "metadata": {},
   "outputs": [
    {
     "data": {
      "image/png": "[encoded data removed]",
      "text/plain": [
       "<Figure size 1440x360 with 1 Axes>"
      ]
     },
     "metadata": {
      "needs_background": "light"
     },
     "output_type": "display_data"
    }
   ],
   "source": [
    "plt.figure(figsize=(20,5))\n",
    "plt.title('mean corr with phi')\n",
    "sns.barplot(x=corr.drop(['phi'], axis=1).columns, y=corrs.mean(axis=0))\n",
    "plt.show()"
   ]
  },
  {
   "cell_type": "code",
   "execution_count": 61,
   "id": "consecutive-stanley",
   "metadata": {},
   "outputs": [
    {
     "data": {
      "text/plain": [
       "<matplotlib.axes._subplots.AxesSubplot at 0x1192e34d0>"
      ]
     },
     "execution_count": 61,
     "metadata": {},
     "output_type": "execute_result"
    },
    {
     "data": {
      "image/png": "[encoded data removed]",
      "text/plain": [
       "<Figure size 1440x360 with 1 Axes>"
      ]
     },
     "metadata": {
      "needs_background": "light"
     },
     "output_type": "display_data"
    }
   ],
   "source": [
    "plt.figure(figsize=(20,5))\n",
    "plt.title('mean MI with phi')\n",
    "sns.barplot(x=corr.drop(['phi'], axis=1).columns, y=mis.mean(axis=0))"
   ]
  },
  {
   "cell_type": "code",
   "execution_count": null,
   "id": "colored-sense",
   "metadata": {},
   "outputs": [],
   "source": []
  }
 ],
 "metadata": {
  "kernelspec": {
   "display_name": "Python 3",
   "language": "python",
   "name": "python3"
  },
  "language_info": {
   "codemirror_mode": {
    "name": "ipython",
    "version": 3
   },
   "file_extension": ".py",
   "mimetype": "text/x-python",
   "name": "python",
   "nbconvert_exporter": "python",
   "pygments_lexer": "ipython3",
   "version": "3.7.4"
  }
 },
 "nbformat": 4,
 "nbformat_minor": 5
}
