{
 "cells": [
  {
   "cell_type": "code",
   "execution_count": 55,
   "id": "drawn-significance",
   "metadata": {},
   "outputs": [],
   "source": [
    "import numpy as np\n",
    "import pandas as pd\n",
    "from tqdm.notebook import tqdm\n",
    "import os\n",
    "import pickle\n",
    "import matplotlib.pyplot as plt\n",
    "import seaborn as sns\n",
    "import json"
   ]
  },
  {
   "cell_type": "code",
   "execution_count": 104,
   "id": "forward-minutes",
   "metadata": {},
   "outputs": [
    {
     "data": {
      "text/plain": [
       "195"
      ]
     },
     "execution_count": 104,
     "metadata": {},
     "output_type": "execute_result"
    }
   ],
   "source": [
    "path = 'minimal_pkls/'\n",
    "save_path = 'processed_jsons/'\n",
    "os.makedirs(save_path, exist_ok=True)\n",
    "files = os.listdir(path)\n",
    "len(files)"
   ]
  },
  {
   "cell_type": "code",
   "execution_count": 61,
   "id": "determined-elder",
   "metadata": {},
   "outputs": [],
   "source": [
    "from social_phi import get_signal, experiment_hop_range\n",
    "\n",
    "def flatten(l : list):\n",
    "    return [item for sublist in l for item in sublist]\n",
    "\n",
    "def extract_data(file, time_scale=24*3600, window=30):\n",
    "    if os.path.exists(save_path + file[:-4] + '.json'):\n",
    "        return\n",
    "    \n",
    "    print(file)\n",
    "    data = pickle.load(open(path + file, 'rb'))\n",
    "    act = flatten(data['activities'].values())\n",
    "    sig = get_signal(data['activities'], time_scale=time_scale, binarize=True)\n",
    "    stats = experiment_hop_range(sig=sig, window=window, min_hop=1, max_hop=window, silent=True)\n",
    "    \n",
    "    res = {\n",
    "        'forks' : data['forks'],\n",
    "        'issues' : data['issues'],\n",
    "        'stars' : data['stars'],\n",
    "        'users' : len(data['activities']),\n",
    "        'commits' : len(act),\n",
    "        'avg_phi' : max(stats['avg_phi']),\n",
    "#         'tau' : np.argmax(stats['avg_phi']) + 1,\n",
    "        'timeline' : (max(act) - min(act)) // time_scale\n",
    "    }\n",
    "    json.dump(res, open(save_path + file[:-4] + '.json', 'w'))"
   ]
  },
  {
   "cell_type": "code",
   "execution_count": null,
   "id": "respected-nomination",
   "metadata": {
    "scrolled": true
   },
   "outputs": [
    {
     "data": {
      "application/vnd.jupyter.widget-view+json": {
       "model_id": "8f7beffe62c046d6b29ac77a6f709e00",
       "version_major": 2,
       "version_minor": 0
      },
      "text/plain": [
       "HBox(children=(FloatProgress(value=0.0, max=195.0), HTML(value='')))"
      ]
     },
     "metadata": {},
     "output_type": "display_data"
    },
    {
     "name": "stdout",
     "output_type": "stream",
     "text": [
      "pandas-dev-pandas.pkl\n",
      "twbs-bootstrap.pkl\n",
      "curl-curl.pkl\n",
      "dbeaver-dbeaver.pkl\n",
      "emberjs-ember.js.pkl\n",
      "spring-projects-spring-framework.pkl\n",
      "SeleniumHQ-selenium.pkl\n",
      "ant-design-ant-design.pkl\n",
      "eugenp-tutorials.pkl\n",
      "flutter-flutter.pkl\n"
     ]
    }
   ],
   "source": [
    "for file in tqdm(files):\n",
    "    extract_data(file)"
   ]
  },
  {
   "cell_type": "code",
   "execution_count": 91,
   "id": "latin-viking",
   "metadata": {},
   "outputs": [
    {
     "name": "stdout",
     "output_type": "stream",
     "text": [
      "(160, 7)\n"
     ]
    },
    {
     "data": {
      "text/html": [
       "<div>\n",
       "<style scoped>\n",
       "    .dataframe tbody tr th:only-of-type {\n",
       "        vertical-align: middle;\n",
       "    }\n",
       "\n",
       "    .dataframe tbody tr th {\n",
       "        vertical-align: top;\n",
       "    }\n",
       "\n",
       "    .dataframe thead th {\n",
       "        text-align: right;\n",
       "    }\n",
       "</style>\n",
       "<table border=\"1\" class=\"dataframe\">\n",
       "  <thead>\n",
       "    <tr style=\"text-align: right;\">\n",
       "      <th></th>\n",
       "      <th>forks</th>\n",
       "      <th>stars</th>\n",
       "      <th>issues</th>\n",
       "      <th>users</th>\n",
       "      <th>commits</th>\n",
       "      <th>timeline</th>\n",
       "      <th>avg_phi</th>\n",
       "    </tr>\n",
       "  </thead>\n",
       "  <tbody>\n",
       "    <tr>\n",
       "      <th>count</th>\n",
       "      <td>160.000000</td>\n",
       "      <td>160.000000</td>\n",
       "      <td>160.00000</td>\n",
       "      <td>160.000000</td>\n",
       "      <td>160.000000</td>\n",
       "      <td>160.000000</td>\n",
       "      <td>160.000000</td>\n",
       "    </tr>\n",
       "    <tr>\n",
       "      <th>mean</th>\n",
       "      <td>6334.550000</td>\n",
       "      <td>33309.456250</td>\n",
       "      <td>719.14375</td>\n",
       "      <td>543.312500</td>\n",
       "      <td>9067.550000</td>\n",
       "      <td>2844.487500</td>\n",
       "      <td>1.369962</td>\n",
       "    </tr>\n",
       "    <tr>\n",
       "      <th>std</th>\n",
       "      <td>6594.667445</td>\n",
       "      <td>23598.262793</td>\n",
       "      <td>775.64089</td>\n",
       "      <td>445.636428</td>\n",
       "      <td>3714.004851</td>\n",
       "      <td>1086.289021</td>\n",
       "      <td>0.291691</td>\n",
       "    </tr>\n",
       "    <tr>\n",
       "      <th>min</th>\n",
       "      <td>945.000000</td>\n",
       "      <td>16383.000000</td>\n",
       "      <td>0.00000</td>\n",
       "      <td>11.000000</td>\n",
       "      <td>1520.000000</td>\n",
       "      <td>714.000000</td>\n",
       "      <td>0.876352</td>\n",
       "    </tr>\n",
       "    <tr>\n",
       "      <th>25%</th>\n",
       "      <td>2948.000000</td>\n",
       "      <td>20244.000000</td>\n",
       "      <td>168.50000</td>\n",
       "      <td>263.250000</td>\n",
       "      <td>6113.750000</td>\n",
       "      <td>2058.500000</td>\n",
       "      <td>1.144139</td>\n",
       "    </tr>\n",
       "    <tr>\n",
       "      <th>50%</th>\n",
       "      <td>4407.500000</td>\n",
       "      <td>25352.000000</td>\n",
       "      <td>513.00000</td>\n",
       "      <td>435.500000</td>\n",
       "      <td>8126.500000</td>\n",
       "      <td>2721.500000</td>\n",
       "      <td>1.313454</td>\n",
       "    </tr>\n",
       "    <tr>\n",
       "      <th>75%</th>\n",
       "      <td>7455.250000</td>\n",
       "      <td>37941.500000</td>\n",
       "      <td>903.50000</td>\n",
       "      <td>675.250000</td>\n",
       "      <td>11316.000000</td>\n",
       "      <td>3503.750000</td>\n",
       "      <td>1.529972</td>\n",
       "    </tr>\n",
       "    <tr>\n",
       "      <th>max</th>\n",
       "      <td>44390.000000</td>\n",
       "      <td>194054.000000</td>\n",
       "      <td>4284.00000</td>\n",
       "      <td>3705.000000</td>\n",
       "      <td>19470.000000</td>\n",
       "      <td>6219.000000</td>\n",
       "      <td>2.542619</td>\n",
       "    </tr>\n",
       "  </tbody>\n",
       "</table>\n",
       "</div>"
      ],
      "text/plain": [
       "              forks          stars      issues        users       commits  \\\n",
       "count    160.000000     160.000000   160.00000   160.000000    160.000000   \n",
       "mean    6334.550000   33309.456250   719.14375   543.312500   9067.550000   \n",
       "std     6594.667445   23598.262793   775.64089   445.636428   3714.004851   \n",
       "min      945.000000   16383.000000     0.00000    11.000000   1520.000000   \n",
       "25%     2948.000000   20244.000000   168.50000   263.250000   6113.750000   \n",
       "50%     4407.500000   25352.000000   513.00000   435.500000   8126.500000   \n",
       "75%     7455.250000   37941.500000   903.50000   675.250000  11316.000000   \n",
       "max    44390.000000  194054.000000  4284.00000  3705.000000  19470.000000   \n",
       "\n",
       "          timeline     avg_phi  \n",
       "count   160.000000  160.000000  \n",
       "mean   2844.487500    1.369962  \n",
       "std    1086.289021    0.291691  \n",
       "min     714.000000    0.876352  \n",
       "25%    2058.500000    1.144139  \n",
       "50%    2721.500000    1.313454  \n",
       "75%    3503.750000    1.529972  \n",
       "max    6219.000000    2.542619  "
      ]
     },
     "execution_count": 91,
     "metadata": {},
     "output_type": "execute_result"
    }
   ],
   "source": [
    "df = pd.DataFrame(columns=['forks', 'stars', 'issues', 'users', 'commits', 'timeline', 'avg_phi'])\n",
    "for file in os.listdir('processed_jsons/'):\n",
    "    rec = json.load(open('processed_jsons/' + file))\n",
    "    df = df.append(rec, ignore_index=True)\n",
    "df = df.astype(float)\n",
    "print(df.shape)\n",
    "df.describe()"
   ]
  },
  {
   "cell_type": "code",
   "execution_count": 92,
   "id": "juvenile-weather",
   "metadata": {},
   "outputs": [
    {
     "data": {
      "image/png": "[encoded data removed]",
      "text/plain": [
       "<Figure size 1152x864 with 6 Axes>"
      ]
     },
     "metadata": {
      "needs_background": "light"
     },
     "output_type": "display_data"
    }
   ],
   "source": [
    "plt.figure(figsize=(16,12))\n",
    "\n",
    "plt.subplot(3,2,1)\n",
    "sns.histplot(df['forks'], bins=10)\n",
    "\n",
    "plt.subplot(3,2,2)\n",
    "sns.histplot(df['stars'], bins=10)\n",
    "\n",
    "plt.subplot(3,2,3)\n",
    "sns.histplot(df['issues'], bins=10)\n",
    "\n",
    "plt.subplot(3,2,4)\n",
    "sns.histplot(df['users'], bins=10)\n",
    "\n",
    "plt.subplot(3,2,5)\n",
    "sns.histplot(df['commits'], bins=10)\n",
    "\n",
    "plt.subplot(3,2,6)\n",
    "sns.histplot(df['avg_phi'], bins=10)\n",
    "\n",
    "plt.show()"
   ]
  },
  {
   "cell_type": "code",
   "execution_count": 95,
   "id": "positive-aggregate",
   "metadata": {},
   "outputs": [
    {
     "data": {
      "image/png": "[encoded data removed]",
      "text/plain": [
       "<Figure size 1440x576 with 4 Axes>"
      ]
     },
     "metadata": {
      "needs_background": "light"
     },
     "output_type": "display_data"
    }
   ],
   "source": [
    "from sklearn.metrics import mutual_info_score, normalized_mutual_info_score, adjusted_mutual_info_score\n",
    "\n",
    "plt.figure(figsize=(20,8))\n",
    "plt.subplot(1,2,1)\n",
    "plt.title('corr')\n",
    "sns.heatmap(df.corr(), mask=np.triu(np.ones(df.shape[1])))\n",
    "\n",
    "mis = np.zeros(shape=(df.shape[1], df.shape[1]))\n",
    "for i in range(df.shape[1]):\n",
    "    for j in range(df.shape[1]):\n",
    "        mis[i,j] = mutual_info_score(df[df.columns[i]], df[df.columns[j]])\n",
    "\n",
    "plt.subplot(1,2,2)\n",
    "sns.heatmap(pd.DataFrame(mis, columns=df.columns, index=df.columns), mask=np.triu(np.ones(df.shape[1])))\n",
    "plt.show()"
   ]
  },
  {
   "cell_type": "code",
   "execution_count": 97,
   "id": "forward-spokesman",
   "metadata": {},
   "outputs": [
    {
     "data": {
      "text/plain": [
       "<matplotlib.collections.PathCollection at 0x1220b26d0>"
      ]
     },
     "execution_count": 97,
     "metadata": {},
     "output_type": "execute_result"
    },
    {
     "data": {
      "image/png": "[encoded data removed]",
      "text/plain": [
       "<Figure size 432x288 with 1 Axes>"
      ]
     },
     "metadata": {
      "needs_background": "light"
     },
     "output_type": "display_data"
    }
   ],
   "source": [
    "plt.scatter(x=df['stars'], y=df['avg_phi'])"
   ]
  },
  {
   "cell_type": "code",
   "execution_count": 43,
   "id": "touched-reggae",
   "metadata": {},
   "outputs": [],
   "source": [
    "# from social_phi import get_single_signal\n",
    "\n",
    "# def display_growth(col):\n",
    "#     for data in all_data:\n",
    "#         sig, _, _ = get_single_signal(data[col], time_scale=24*3600, binarize=False)\n",
    "#         cum_sig = [sig[:i+1].sum() for i in range(len(sig))]\n",
    "#         plt.plot(cum_sig)\n",
    "        \n",
    "# def display_commit_growth():\n",
    "#     for data in all_data:\n",
    "#         act = flatten(data['activities'].values())\n",
    "#         sig, _, _ = get_single_signal(act, time_scale=24*3600, binarize=False)\n",
    "#         cum_sig = [sig[:i+1].sum() for i in range(len(sig))]\n",
    "#         plt.plot(cum_sig)\n",
    "\n",
    "# plt.figure(figsize=(16,16))\n",
    "\n",
    "# plt.subplot(4,1,1)\n",
    "# plt.title('forks')\n",
    "# display_growth('forks')\n",
    "\n",
    "# plt.subplot(4,1,2)\n",
    "# plt.title('stars')\n",
    "# display_growth('stars')\n",
    "\n",
    "# plt.subplot(4,1,3)\n",
    "# plt.title('issues')\n",
    "# display_growth('issues')\n",
    "\n",
    "# plt.subplot(4,1,4)\n",
    "# plt.title('commits')\n",
    "# display_commit_growth()\n",
    "    \n",
    "# plt.show()"
   ]
  },
  {
   "cell_type": "code",
   "execution_count": null,
   "id": "practical-rebate",
   "metadata": {},
   "outputs": [],
   "source": []
  }
 ],
 "metadata": {
  "kernelspec": {
   "display_name": "Python 3",
   "language": "python",
   "name": "python3"
  },
  "language_info": {
   "codemirror_mode": {
    "name": "ipython",
    "version": 3
   },
   "file_extension": ".py",
   "mimetype": "text/x-python",
   "name": "python",
   "nbconvert_exporter": "python",
   "pygments_lexer": "ipython3",
   "version": "3.7.4"
  }
 },
 "nbformat": 4,
 "nbformat_minor": 5
}
