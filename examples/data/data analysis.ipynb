{
 "cells": [
  {
   "cell_type": "code",
   "execution_count": 1,
   "id": "drawn-significance",
   "metadata": {},
   "outputs": [],
   "source": [
    "import numpy as np\n",
    "import pandas as pd\n",
    "from tqdm.notebook import tqdm\n",
    "import os\n",
    "import pickle\n",
    "import matplotlib.pyplot as plt\n",
    "import seaborn as sns\n",
    "import json"
   ]
  },
  {
   "cell_type": "code",
   "execution_count": 10,
   "id": "forward-minutes",
   "metadata": {},
   "outputs": [
    {
     "data": {
      "text/plain": [
       "200"
      ]
     },
     "execution_count": 10,
     "metadata": {},
     "output_type": "execute_result"
    }
   ],
   "source": [
    "path = 'minimal_pkls/'\n",
    "save_path = 'phi_stats/'\n",
    "os.makedirs(save_path, exist_ok=True)\n",
    "files = os.listdir(path)\n",
    "len(files)"
   ]
  },
  {
   "cell_type": "code",
   "execution_count": 22,
   "id": "determined-elder",
   "metadata": {},
   "outputs": [],
   "source": [
    "from social_phi import get_signal, experiment_hop_range\n",
    "\n",
    "def flatten(l : list):\n",
    "    return [item for sublist in l for item in sublist]\n",
    "\n",
    "def run_experiment(file, time_scale=24*3600, window=30):\n",
    "    if os.path.exists(save_path + file[:-4] + '.csv'):\n",
    "        return\n",
    "    \n",
    "    data = pickle.load(open(path + file, 'rb'))\n",
    "    sig = get_signal(data['activities'], time_scale=time_scale, binarize=True)\n",
    "    stats = experiment_hop_range(sig=sig, window=window, min_hop=1, max_hop=window, silent=True)\n",
    "    stats.to_csv(save_path + file[:-4] + '.csv', index=False)\n",
    "    \n",
    "def load_data(file, key='vnr'):\n",
    "    stats = pd.read_csv(save_path + file)\n",
    "    data = pickle.load(open(path + file[:-4] + '.pkl', 'rb'))\n",
    "    act = flatten(data['activities'].values())\n",
    "    \n",
    "    return {\n",
    "        'forks' : data['forks'],\n",
    "        'stars' : data['stars'],\n",
    "        'issues' : data['issues'],\n",
    "        'users' : len(data['activities']),\n",
    "        'commits' : len(act),\n",
    "        'timeline_length' : (max(act) - min(act)) // (24*3600),\n",
    "        'avg_phi' : max(stats[stats[key] == max(stats[key])]['avg_phi'])\n",
    "    }"
   ]
  },
  {
   "cell_type": "code",
   "execution_count": 7,
   "id": "respected-nomination",
   "metadata": {
    "scrolled": true
   },
   "outputs": [
    {
     "data": {
      "application/vnd.jupyter.widget-view+json": {
       "model_id": "3529f245bbfd4eb2bd7dd79142f2889a",
       "version_major": 2,
       "version_minor": 0
      },
      "text/plain": [
       "  0%|          | 0/200 [00:00<?, ?it/s]"
      ]
     },
     "metadata": {},
     "output_type": "display_data"
    }
   ],
   "source": [
    "from joblib import Parallel, delayed\n",
    "\n",
    "_ = Parallel(n_jobs=20)(delayed(extract_data)(file) for file in tqdm(files))"
   ]
  },
  {
   "cell_type": "code",
   "execution_count": 37,
   "id": "latin-viking",
   "metadata": {},
   "outputs": [
    {
     "name": "stdout",
     "output_type": "stream",
     "text": [
      "(200, 7)\n"
     ]
    },
    {
     "data": {
      "text/html": [
       "<div>\n",
       "<style scoped>\n",
       "    .dataframe tbody tr th:only-of-type {\n",
       "        vertical-align: middle;\n",
       "    }\n",
       "\n",
       "    .dataframe tbody tr th {\n",
       "        vertical-align: top;\n",
       "    }\n",
       "\n",
       "    .dataframe thead th {\n",
       "        text-align: right;\n",
       "    }\n",
       "</style>\n",
       "<table border=\"1\" class=\"dataframe\">\n",
       "  <thead>\n",
       "    <tr style=\"text-align: right;\">\n",
       "      <th></th>\n",
       "      <th>forks</th>\n",
       "      <th>stars</th>\n",
       "      <th>issues</th>\n",
       "      <th>users</th>\n",
       "      <th>commits</th>\n",
       "      <th>timeline_length</th>\n",
       "      <th>avg_phi</th>\n",
       "    </tr>\n",
       "  </thead>\n",
       "  <tbody>\n",
       "    <tr>\n",
       "      <th>count</th>\n",
       "      <td>200.000000</td>\n",
       "      <td>200.000000</td>\n",
       "      <td>200.00000</td>\n",
       "      <td>200.000000</td>\n",
       "      <td>200.000000</td>\n",
       "      <td>200.000000</td>\n",
       "      <td>200.000000</td>\n",
       "    </tr>\n",
       "    <tr>\n",
       "      <th>mean</th>\n",
       "      <td>7310.725000</td>\n",
       "      <td>34761.095000</td>\n",
       "      <td>763.85500</td>\n",
       "      <td>626.325000</td>\n",
       "      <td>10420.275000</td>\n",
       "      <td>2897.120000</td>\n",
       "      <td>0.791408</td>\n",
       "    </tr>\n",
       "    <tr>\n",
       "      <th>std</th>\n",
       "      <td>8987.707573</td>\n",
       "      <td>32779.152061</td>\n",
       "      <td>990.46492</td>\n",
       "      <td>837.297933</td>\n",
       "      <td>5509.547699</td>\n",
       "      <td>1182.043621</td>\n",
       "      <td>0.168434</td>\n",
       "    </tr>\n",
       "    <tr>\n",
       "      <th>min</th>\n",
       "      <td>719.000000</td>\n",
       "      <td>15237.000000</td>\n",
       "      <td>0.00000</td>\n",
       "      <td>11.000000</td>\n",
       "      <td>1520.000000</td>\n",
       "      <td>414.000000</td>\n",
       "      <td>0.312381</td>\n",
       "    </tr>\n",
       "    <tr>\n",
       "      <th>25%</th>\n",
       "      <td>2934.000000</td>\n",
       "      <td>18782.000000</td>\n",
       "      <td>164.50000</td>\n",
       "      <td>247.000000</td>\n",
       "      <td>6215.250000</td>\n",
       "      <td>2127.000000</td>\n",
       "      <td>0.696622</td>\n",
       "    </tr>\n",
       "    <tr>\n",
       "      <th>50%</th>\n",
       "      <td>4426.500000</td>\n",
       "      <td>24287.500000</td>\n",
       "      <td>500.00000</td>\n",
       "      <td>455.500000</td>\n",
       "      <td>8448.000000</td>\n",
       "      <td>2737.000000</td>\n",
       "      <td>0.805669</td>\n",
       "    </tr>\n",
       "    <tr>\n",
       "      <th>75%</th>\n",
       "      <td>7774.500000</td>\n",
       "      <td>37941.500000</td>\n",
       "      <td>919.75000</td>\n",
       "      <td>714.500000</td>\n",
       "      <td>13560.750000</td>\n",
       "      <td>3599.250000</td>\n",
       "      <td>0.903137</td>\n",
       "    </tr>\n",
       "    <tr>\n",
       "      <th>max</th>\n",
       "      <td>73734.000000</td>\n",
       "      <td>325401.000000</td>\n",
       "      <td>9213.00000</td>\n",
       "      <td>9618.000000</td>\n",
       "      <td>27770.000000</td>\n",
       "      <td>7847.000000</td>\n",
       "      <td>1.273094</td>\n",
       "    </tr>\n",
       "  </tbody>\n",
       "</table>\n",
       "</div>"
      ],
      "text/plain": [
       "              forks          stars      issues        users       commits  \\\n",
       "count    200.000000     200.000000   200.00000   200.000000    200.000000   \n",
       "mean    7310.725000   34761.095000   763.85500   626.325000  10420.275000   \n",
       "std     8987.707573   32779.152061   990.46492   837.297933   5509.547699   \n",
       "min      719.000000   15237.000000     0.00000    11.000000   1520.000000   \n",
       "25%     2934.000000   18782.000000   164.50000   247.000000   6215.250000   \n",
       "50%     4426.500000   24287.500000   500.00000   455.500000   8448.000000   \n",
       "75%     7774.500000   37941.500000   919.75000   714.500000  13560.750000   \n",
       "max    73734.000000  325401.000000  9213.00000  9618.000000  27770.000000   \n",
       "\n",
       "       timeline_length     avg_phi  \n",
       "count       200.000000  200.000000  \n",
       "mean       2897.120000    0.791408  \n",
       "std        1182.043621    0.168434  \n",
       "min         414.000000    0.312381  \n",
       "25%        2127.000000    0.696622  \n",
       "50%        2737.000000    0.805669  \n",
       "75%        3599.250000    0.903137  \n",
       "max        7847.000000    1.273094  "
      ]
     },
     "execution_count": 37,
     "metadata": {},
     "output_type": "execute_result"
    }
   ],
   "source": [
    "df = pd.DataFrame(columns=['forks', 'stars', 'issues', 'users', 'commits', 'timeline_length', 'avg_phi'])\n",
    "for file in os.listdir(save_path):\n",
    "    df = df.append(load_data(file, key='vnr'), ignore_index=True)\n",
    "df = df.astype(float)\n",
    "print(df.shape)\n",
    "df.describe()"
   ]
  },
  {
   "cell_type": "code",
   "execution_count": 39,
   "id": "eba3e669",
   "metadata": {},
   "outputs": [
    {
     "data": {
      "text/plain": [
       "forks             -0.018814\n",
       "stars              0.026867\n",
       "issues            -0.133095\n",
       "users             -0.020465\n",
       "commits           -0.085881\n",
       "timeline_length    0.113696\n",
       "avg_phi            1.000000\n",
       "Name: avg_phi, dtype: float64"
      ]
     },
     "execution_count": 39,
     "metadata": {},
     "output_type": "execute_result"
    }
   ],
   "source": [
    "df.corr().loc['avg_phi']"
   ]
  },
  {
   "cell_type": "code",
   "execution_count": 34,
   "id": "juvenile-weather",
   "metadata": {},
   "outputs": [
    {
     "data": {
      "image/png": "[encoded data removed]",
      "text/plain": [
       "<Figure size 1152x864 with 6 Axes>"
      ]
     },
     "metadata": {
      "needs_background": "light"
     },
     "output_type": "display_data"
    }
   ],
   "source": [
    "plt.figure(figsize=(16,12))\n",
    "\n",
    "plt.subplot(3,2,1)\n",
    "sns.histplot(df['forks'], bins=10)\n",
    "\n",
    "plt.subplot(3,2,2)\n",
    "sns.histplot(df['stars'], bins=10)\n",
    "\n",
    "plt.subplot(3,2,3)\n",
    "sns.histplot(df['issues'], bins=10)\n",
    "\n",
    "plt.subplot(3,2,4)\n",
    "sns.histplot(df['users'], bins=10)\n",
    "\n",
    "plt.subplot(3,2,5)\n",
    "sns.histplot(df['commits'], bins=10)\n",
    "\n",
    "plt.subplot(3,2,6)\n",
    "sns.histplot(df['avg_phi'], bins=10)\n",
    "\n",
    "plt.show()"
   ]
  },
  {
   "cell_type": "code",
   "execution_count": 41,
   "id": "positive-aggregate",
   "metadata": {},
   "outputs": [
    {
     "data": {
      "image/png": "[encoded data removed]",
      "text/plain": [
       "<Figure size 1440x576 with 4 Axes>"
      ]
     },
     "metadata": {
      "needs_background": "light"
     },
     "output_type": "display_data"
    }
   ],
   "source": [
    "from sklearn.metrics import mutual_info_score, normalized_mutual_info_score, adjusted_mutual_info_score\n",
    "\n",
    "plt.figure(figsize=(20,8))\n",
    "plt.subplot(1,2,1)\n",
    "plt.title('corr')\n",
    "sns.heatmap(df.corr(), mask=np.triu(np.ones(df.shape[1])))\n",
    "\n",
    "mis = np.zeros(shape=(df.shape[1], df.shape[1]))\n",
    "for i in range(df.shape[1]):\n",
    "    for j in range(df.shape[1]):\n",
    "        mis[i,j] = mutual_info_score(df[df.columns[i]], df[df.columns[j]])\n",
    "mis = pd.DataFrame(mis, columns=df.columns, index=df.columns)\n",
    "\n",
    "plt.subplot(1,2,2)\n",
    "sns.heatmap(mis, mask=np.triu(np.ones(df.shape[1])))\n",
    "plt.show()"
   ]
  },
  {
   "cell_type": "code",
   "execution_count": 43,
   "id": "b8fad57a",
   "metadata": {},
   "outputs": [
    {
     "data": {
      "text/plain": [
       "forks              5.277523\n",
       "stars              5.298317\n",
       "issues             5.208208\n",
       "users              5.138894\n",
       "commits            5.298317\n",
       "timeline_length    5.284454\n",
       "avg_phi            5.298317\n",
       "Name: avg_phi, dtype: float64"
      ]
     },
     "execution_count": 43,
     "metadata": {},
     "output_type": "execute_result"
    }
   ],
   "source": [
    "mis.loc['avg_phi']"
   ]
  },
  {
   "cell_type": "code",
   "execution_count": 31,
   "id": "forward-spokesman",
   "metadata": {},
   "outputs": [
    {
     "data": {
      "text/plain": [
       "<matplotlib.collections.PathCollection at 0x7f8b3be89820>"
      ]
     },
     "execution_count": 31,
     "metadata": {},
     "output_type": "execute_result"
    },
    {
     "data": {
      "image/png": "[encoded data removed]",
      "text/plain": [
       "<Figure size 432x288 with 1 Axes>"
      ]
     },
     "metadata": {
      "needs_background": "light"
     },
     "output_type": "display_data"
    }
   ],
   "source": [
    "plt.scatter(x=df['issues'], y=df['avg_phi'])"
   ]
  },
  {
   "cell_type": "code",
   "execution_count": 43,
   "id": "touched-reggae",
   "metadata": {},
   "outputs": [],
   "source": [
    "# from social_phi import get_single_signal\n",
    "\n",
    "# def display_growth(col):\n",
    "#     for data in all_data:\n",
    "#         sig, _, _ = get_single_signal(data[col], time_scale=24*3600, binarize=False)\n",
    "#         cum_sig = [sig[:i+1].sum() for i in range(len(sig))]\n",
    "#         plt.plot(cum_sig)\n",
    "        \n",
    "# def display_commit_growth():\n",
    "#     for data in all_data:\n",
    "#         act = flatten(data['activities'].values())\n",
    "#         sig, _, _ = get_single_signal(act, time_scale=24*3600, binarize=False)\n",
    "#         cum_sig = [sig[:i+1].sum() for i in range(len(sig))]\n",
    "#         plt.plot(cum_sig)\n",
    "\n",
    "# plt.figure(figsize=(16,16))\n",
    "\n",
    "# plt.subplot(4,1,1)\n",
    "# plt.title('forks')\n",
    "# display_growth('forks')\n",
    "\n",
    "# plt.subplot(4,1,2)\n",
    "# plt.title('stars')\n",
    "# display_growth('stars')\n",
    "\n",
    "# plt.subplot(4,1,3)\n",
    "# plt.title('issues')\n",
    "# display_growth('issues')\n",
    "\n",
    "# plt.subplot(4,1,4)\n",
    "# plt.title('commits')\n",
    "# display_commit_growth()\n",
    "    \n",
    "# plt.show()"
   ]
  },
  {
   "cell_type": "code",
   "execution_count": null,
   "id": "practical-rebate",
   "metadata": {},
   "outputs": [],
   "source": []
  }
 ],
 "metadata": {
  "kernelspec": {
   "display_name": "Python 3",
   "language": "python",
   "name": "python3"
  },
  "language_info": {
   "codemirror_mode": {
    "name": "ipython",
    "version": 3
   },
   "file_extension": ".py",
   "mimetype": "text/x-python",
   "name": "python",
   "nbconvert_exporter": "python",
   "pygments_lexer": "ipython3",
   "version": "3.8.5"
  }
 },
 "nbformat": 4,
 "nbformat_minor": 5
}
