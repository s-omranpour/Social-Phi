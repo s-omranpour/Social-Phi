{
 "cells": [
  {
   "cell_type": "code",
   "execution_count": 55,
   "id": "recreational-least",
   "metadata": {},
   "outputs": [],
   "source": [
    "import numpy as np\n",
    "import pandas as pd\n",
    "from tqdm.notebook import tqdm\n",
    "import os\n",
    "import pickle\n",
    "import matplotlib.pyplot as plt\n",
    "import seaborn as sns\n",
    "import json"
   ]
  },
  {
   "cell_type": "code",
   "execution_count": 49,
   "id": "infectious-pottery",
   "metadata": {},
   "outputs": [
    {
     "data": {
      "text/plain": [
       "55"
      ]
     },
     "execution_count": 49,
     "metadata": {},
     "output_type": "execute_result"
    }
   ],
   "source": [
    "path = 'minimal_pkls/'\n",
    "save_path = 'processed_jsons/'\n",
    "os.makedirs(save_path, exist_ok=True)\n",
    "files = os.listdir(path)\n",
    "len(files)"
   ]
  },
  {
   "cell_type": "code",
   "execution_count": 58,
   "id": "prostate-slovak",
   "metadata": {},
   "outputs": [],
   "source": [
    "from social_phi import get_signal,experiment_hop_range\n",
    "\n",
    "def flatten(l : list):\n",
    "    return [item for sublist in l for item in sublist]\n",
    "\n",
    "def extract_data(file, time_scale=24*3600, window=30):\n",
    "    if os.path.exists(save_path + file[:-4] + '.json'):\n",
    "        return\n",
    "    \n",
    "    data = pickle.load(open(path + file, 'rb'))\n",
    "    act = flatten(data['activities'].values())\n",
    "    sig = get_signal(data['activities'], time_scale=time_scale, binarize=True)\n",
    "    stats = experiment_hop_range(sig=sig, window=window, min_hop=1, max_hop=window, silent=True)\n",
    "    \n",
    "    res = {\n",
    "        'forks' : data['forks'],\n",
    "        'issues' : data['issues'],\n",
    "        'stars' : data['stars'],\n",
    "        'users' : len(data['activities']),\n",
    "        'commits' : len(act),\n",
    "        'avg_phi' : max(stats['avg_phi']),\n",
    "        'timeline' : (max(act) - min(act)) // time_scale\n",
    "    }\n",
    "    json.dump(res, open(save_path + file[:-4] + '.json', 'w'))"
   ]
  },
  {
   "cell_type": "code",
   "execution_count": null,
   "id": "traditional-naples",
   "metadata": {},
   "outputs": [
    {
     "data": {
      "application/vnd.jupyter.widget-view+json": {
       "model_id": "b01d6c872bec499e976b8ebba9fa4604",
       "version_major": 2,
       "version_minor": 0
      },
      "text/plain": [
       "HBox(children=(FloatProgress(value=0.0, max=55.0), HTML(value='')))"
      ]
     },
     "metadata": {},
     "output_type": "display_data"
    },
    {
     "name": "stdout",
     "output_type": "stream",
     "text": [
      "30-seconds-30-seconds-of-code.pkl\n",
      "nuxt-nuxt.js.pkl\n",
      "webpack-webpack.pkl\n",
      "apache-superset.pkl\n"
     ]
    }
   ],
   "source": [
    "for file in tqdm(files):\n",
    "    print(file)\n",
    "    extract_data(file)"
   ]
  },
  {
   "cell_type": "code",
   "execution_count": 8,
   "id": "excited-musical",
   "metadata": {},
   "outputs": [
    {
     "data": {
      "text/html": [
       "<div>\n",
       "<style scoped>\n",
       "    .dataframe tbody tr th:only-of-type {\n",
       "        vertical-align: middle;\n",
       "    }\n",
       "\n",
       "    .dataframe tbody tr th {\n",
       "        vertical-align: top;\n",
       "    }\n",
       "\n",
       "    .dataframe thead th {\n",
       "        text-align: right;\n",
       "    }\n",
       "</style>\n",
       "<table border=\"1\" class=\"dataframe\">\n",
       "  <thead>\n",
       "    <tr style=\"text-align: right;\">\n",
       "      <th></th>\n",
       "      <th>forks</th>\n",
       "      <th>stars</th>\n",
       "      <th>issues</th>\n",
       "      <th>users</th>\n",
       "      <th>commits</th>\n",
       "      <th>avg_phi</th>\n",
       "      <th>timeline</th>\n",
       "    </tr>\n",
       "  </thead>\n",
       "  <tbody>\n",
       "    <tr>\n",
       "      <th>count</th>\n",
       "      <td>15.000000</td>\n",
       "      <td>15.000000</td>\n",
       "      <td>15.000000</td>\n",
       "      <td>15.000000</td>\n",
       "      <td>15.000000</td>\n",
       "      <td>15.000000</td>\n",
       "      <td>15.000000</td>\n",
       "    </tr>\n",
       "    <tr>\n",
       "      <th>mean</th>\n",
       "      <td>6878.600000</td>\n",
       "      <td>26544.000000</td>\n",
       "      <td>1402.000000</td>\n",
       "      <td>775.266667</td>\n",
       "      <td>16563.266667</td>\n",
       "      <td>1.109419</td>\n",
       "      <td>3203.133333</td>\n",
       "    </tr>\n",
       "    <tr>\n",
       "      <th>std</th>\n",
       "      <td>5477.440041</td>\n",
       "      <td>11236.736848</td>\n",
       "      <td>1668.490378</td>\n",
       "      <td>681.635058</td>\n",
       "      <td>14564.091485</td>\n",
       "      <td>0.250737</td>\n",
       "      <td>1601.532697</td>\n",
       "    </tr>\n",
       "    <tr>\n",
       "      <th>min</th>\n",
       "      <td>1378.000000</td>\n",
       "      <td>5530.000000</td>\n",
       "      <td>12.000000</td>\n",
       "      <td>75.000000</td>\n",
       "      <td>1342.000000</td>\n",
       "      <td>0.840441</td>\n",
       "      <td>1278.000000</td>\n",
       "    </tr>\n",
       "    <tr>\n",
       "      <th>25%</th>\n",
       "      <td>3845.500000</td>\n",
       "      <td>16861.000000</td>\n",
       "      <td>402.500000</td>\n",
       "      <td>262.000000</td>\n",
       "      <td>4436.000000</td>\n",
       "      <td>0.895846</td>\n",
       "      <td>2114.000000</td>\n",
       "    </tr>\n",
       "    <tr>\n",
       "      <th>50%</th>\n",
       "      <td>5518.000000</td>\n",
       "      <td>30083.000000</td>\n",
       "      <td>907.000000</td>\n",
       "      <td>495.000000</td>\n",
       "      <td>11882.000000</td>\n",
       "      <td>1.097988</td>\n",
       "      <td>2768.000000</td>\n",
       "    </tr>\n",
       "    <tr>\n",
       "      <th>75%</th>\n",
       "      <td>7821.000000</td>\n",
       "      <td>37120.000000</td>\n",
       "      <td>1592.500000</td>\n",
       "      <td>1268.500000</td>\n",
       "      <td>25185.000000</td>\n",
       "      <td>1.244811</td>\n",
       "      <td>4219.500000</td>\n",
       "    </tr>\n",
       "    <tr>\n",
       "      <th>max</th>\n",
       "      <td>23094.000000</td>\n",
       "      <td>39900.000000</td>\n",
       "      <td>6313.000000</td>\n",
       "      <td>2322.000000</td>\n",
       "      <td>52223.000000</td>\n",
       "      <td>1.589701</td>\n",
       "      <td>7122.000000</td>\n",
       "    </tr>\n",
       "  </tbody>\n",
       "</table>\n",
       "</div>"
      ],
      "text/plain": [
       "              forks         stars       issues        users       commits  \\\n",
       "count     15.000000     15.000000    15.000000    15.000000     15.000000   \n",
       "mean    6878.600000  26544.000000  1402.000000   775.266667  16563.266667   \n",
       "std     5477.440041  11236.736848  1668.490378   681.635058  14564.091485   \n",
       "min     1378.000000   5530.000000    12.000000    75.000000   1342.000000   \n",
       "25%     3845.500000  16861.000000   402.500000   262.000000   4436.000000   \n",
       "50%     5518.000000  30083.000000   907.000000   495.000000  11882.000000   \n",
       "75%     7821.000000  37120.000000  1592.500000  1268.500000  25185.000000   \n",
       "max    23094.000000  39900.000000  6313.000000  2322.000000  52223.000000   \n",
       "\n",
       "         avg_phi     timeline  \n",
       "count  15.000000    15.000000  \n",
       "mean    1.109419  3203.133333  \n",
       "std     0.250737  1601.532697  \n",
       "min     0.840441  1278.000000  \n",
       "25%     0.895846  2114.000000  \n",
       "50%     1.097988  2768.000000  \n",
       "75%     1.244811  4219.500000  \n",
       "max     1.589701  7122.000000  "
      ]
     },
     "execution_count": 8,
     "metadata": {},
     "output_type": "execute_result"
    }
   ],
   "source": [
    "df = pd.DataFrame(columns=['forks', 'stars', 'issues', 'users', 'commits', 'timeline', 'avg_phi'])\n",
    "for file in os.listdir('processed_jsons/'):\n",
    "    rec = json.load(open('processed_jsons/' + file))\n",
    "    df = df.append(rec, ignore_index=True)\n",
    "df = df.astype(float)\n",
    "df.describe()"
   ]
  },
  {
   "cell_type": "code",
   "execution_count": 34,
   "id": "celtic-genesis",
   "metadata": {},
   "outputs": [
    {
     "data": {
      "image/png": "[encoded data removed]",
      "text/plain": [
       "<Figure size 1152x864 with 6 Axes>"
      ]
     },
     "metadata": {
      "needs_background": "light"
     },
     "output_type": "display_data"
    }
   ],
   "source": [
    "plt.figure(figsize=(16,12))\n",
    "\n",
    "plt.subplot(3,2,1)\n",
    "sns.histplot(df['forks'], bins=10)\n",
    "\n",
    "plt.subplot(3,2,2)\n",
    "sns.histplot(df['stars'], bins=10)\n",
    "\n",
    "plt.subplot(3,2,3)\n",
    "sns.histplot(df['issues'], bins=10)\n",
    "\n",
    "plt.subplot(3,2,4)\n",
    "sns.histplot(df['users'], bins=10)\n",
    "\n",
    "plt.subplot(3,2,5)\n",
    "sns.histplot(df['commits'], bins=10)\n",
    "\n",
    "plt.subplot(3,2,6)\n",
    "sns.histplot(df['avg_phi'], bins=10)\n",
    "\n",
    "plt.show()"
   ]
  },
  {
   "cell_type": "code",
   "execution_count": 42,
   "id": "adapted-allah",
   "metadata": {},
   "outputs": [
    {
     "data": {
      "image/png": "[encoded data removed]",
      "text/plain": [
       "<Figure size 1440x576 with 4 Axes>"
      ]
     },
     "metadata": {
      "needs_background": "light"
     },
     "output_type": "display_data"
    }
   ],
   "source": [
    "from sklearn.metrics import mutual_info_score, normalized_mutual_info_score, adjusted_mutual_info_score\n",
    "\n",
    "plt.figure(figsize=(20,8))\n",
    "plt.subplot(1,2,1)\n",
    "plt.title('corr')\n",
    "sns.heatmap(df.corr())\n",
    "\n",
    "mis = np.zeros(shape=(df.shape[1], df.shape[1]))\n",
    "for i in range(df.shape[1]):\n",
    "    for j in range(df.shape[1]):\n",
    "        mis[i,j] = adjusted_mutual_info_score(df[df.columns[i]], df[df.columns[j]])\n",
    "\n",
    "plt.subplot(1,2,2)\n",
    "sns.heatmap(pd.DataFrame(mis, columns=df.columns, index=df.columns))\n",
    "plt.show()"
   ]
  },
  {
   "cell_type": "code",
   "execution_count": 43,
   "id": "operational-albert",
   "metadata": {},
   "outputs": [],
   "source": [
    "# from social_phi import get_single_signal\n",
    "\n",
    "# def display_growth(col):\n",
    "#     for data in all_data:\n",
    "#         sig, _, _ = get_single_signal(data[col], time_scale=24*3600, binarize=False)\n",
    "#         cum_sig = [sig[:i+1].sum() for i in range(len(sig))]\n",
    "#         plt.plot(cum_sig)\n",
    "        \n",
    "# def display_commit_growth():\n",
    "#     for data in all_data:\n",
    "#         act = flatten(data['activities'].values())\n",
    "#         sig, _, _ = get_single_signal(act, time_scale=24*3600, binarize=False)\n",
    "#         cum_sig = [sig[:i+1].sum() for i in range(len(sig))]\n",
    "#         plt.plot(cum_sig)\n",
    "\n",
    "# plt.figure(figsize=(16,16))\n",
    "\n",
    "# plt.subplot(4,1,1)\n",
    "# plt.title('forks')\n",
    "# display_growth('forks')\n",
    "\n",
    "# plt.subplot(4,1,2)\n",
    "# plt.title('stars')\n",
    "# display_growth('stars')\n",
    "\n",
    "# plt.subplot(4,1,3)\n",
    "# plt.title('issues')\n",
    "# display_growth('issues')\n",
    "\n",
    "# plt.subplot(4,1,4)\n",
    "# plt.title('commits')\n",
    "# display_commit_growth()\n",
    "    \n",
    "# plt.show()"
   ]
  },
  {
   "cell_type": "code",
   "execution_count": null,
   "id": "biological-loading",
   "metadata": {},
   "outputs": [],
   "source": []
  }
 ],
 "metadata": {
  "kernelspec": {
   "display_name": "Python 3",
   "language": "python",
   "name": "python3"
  },
  "language_info": {
   "codemirror_mode": {
    "name": "ipython",
    "version": 3
   },
   "file_extension": ".py",
   "mimetype": "text/x-python",
   "name": "python",
   "nbconvert_exporter": "python",
   "pygments_lexer": "ipython3",
   "version": "3.7.4"
  }
 },
 "nbformat": 4,
 "nbformat_minor": 5
}
